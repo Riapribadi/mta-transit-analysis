{
 "cells": [
  {
   "cell_type": "code",
   "execution_count": 1,
   "id": "7758c7dc",
   "metadata": {},
   "outputs": [],
   "source": [
    "# Data source: http://web.mta.info/developers/turnstile.html\n",
    "# Reference: https://towardsdatascience.com/mta-turstile-data-my-first-taste-of-a-data-science-project-493b03f1708a\n",
    "# Data documentation: https://data.ny.gov/Transportation/Turnstile-Usage-Data-2021/uu7b-3kff\n",
    "# Reference: https://github.com/Ritaotao/pymtattl\n",
    "# Reference: https://github.com/RollingHillsAnalytics/MTA-extraction/blob/master/retrieve-MTA-turnstile-data-files.py"
   ]
  },
  {
   "cell_type": "markdown",
   "id": "538975bf",
   "metadata": {},
   "source": [
    "#### Retrieving Data using HTML Parser and pymtattl package, result will be downloaded as .txt files in a folder"
   ]
  },
  {
   "cell_type": "code",
   "execution_count": 2,
   "id": "d222c608",
   "metadata": {},
   "outputs": [
    {
     "name": "stdout",
     "output_type": "stream",
     "text": [
      "Requirement already satisfied: pymtattl in c:\\users\\ria\\anaconda3\\envs\\dataeng-project-team19\\lib\\site-packages (1.1.1)\n",
      "Requirement already satisfied: sqlalchemy in c:\\users\\ria\\anaconda3\\envs\\dataeng-project-team19\\lib\\site-packages (from pymtattl) (1.4.36)\n",
      "Requirement already satisfied: beautifulsoup4 in c:\\users\\ria\\anaconda3\\envs\\dataeng-project-team19\\lib\\site-packages (from pymtattl) (4.11.1)\n",
      "Requirement already satisfied: pandas in c:\\users\\ria\\anaconda3\\envs\\dataeng-project-team19\\lib\\site-packages (from pymtattl) (1.4.2)\n",
      "Requirement already satisfied: soupsieve>1.2 in c:\\users\\ria\\anaconda3\\envs\\dataeng-project-team19\\lib\\site-packages (from beautifulsoup4->pymtattl) (2.3.1)\n",
      "Requirement already satisfied: pytz>=2020.1 in c:\\users\\ria\\anaconda3\\envs\\dataeng-project-team19\\lib\\site-packages (from pandas->pymtattl) (2021.3)\n",
      "Requirement already satisfied: python-dateutil>=2.8.1 in c:\\users\\ria\\anaconda3\\envs\\dataeng-project-team19\\lib\\site-packages (from pandas->pymtattl) (2.8.2)\n",
      "Requirement already satisfied: numpy>=1.18.5 in c:\\users\\ria\\anaconda3\\envs\\dataeng-project-team19\\lib\\site-packages (from pandas->pymtattl) (1.21.5)\n",
      "Requirement already satisfied: six>=1.5 in c:\\users\\ria\\anaconda3\\envs\\dataeng-project-team19\\lib\\site-packages (from python-dateutil>=2.8.1->pandas->pymtattl) (1.16.0)\n",
      "Requirement already satisfied: greenlet!=0.4.17 in c:\\users\\ria\\anaconda3\\envs\\dataeng-project-team19\\lib\\site-packages (from sqlalchemy->pymtattl) (1.1.2)\n",
      "Note: you may need to restart the kernel to use updated packages.\n"
     ]
    }
   ],
   "source": [
    "pip install pymtattl"
   ]
  },
  {
   "cell_type": "code",
   "execution_count": 3,
   "id": "3cdd610b",
   "metadata": {},
   "outputs": [],
   "source": [
    "import pandas as pd"
   ]
  },
  {
   "cell_type": "code",
   "execution_count": 4,
   "id": "47d2154f",
   "metadata": {},
   "outputs": [],
   "source": [
    "from pymtattl import Downloader\n",
    "# Downloader package from pymtattl will download eact txt content within the date range specified.\n",
    "# However worked better with html.parser instead of lxml\n",
    "# I changed lxml in line 295 core.py in in library to html.parser and it worked"
   ]
  },
  {
   "cell_type": "code",
   "execution_count": 6,
   "id": "27c20387",
   "metadata": {},
   "outputs": [
    {
     "name": "stderr",
     "output_type": "stream",
     "text": [
      "2022-04-28 20:23:56,901 [MainThread  ] [INFO ]  Download data between 220101 and 220423.\n",
      "2022-04-28 20:23:56,988 [MainThread  ] [INFO ]  625 data file urls found on mta site.\n",
      "2022-04-28 20:23:56,989 [MainThread  ] [INFO ]  17 available data files within time window.\n",
      "2022-04-28 20:23:56,991 [MainThread  ] [INFO ]  Start downloading process.\n",
      "2022-04-28 20:24:21,420 [MainThread  ] [INFO ]  Downloaded 10 files...\n",
      "2022-04-28 20:25:11,117 [MainThread  ] [INFO ]  Complete: downloaded 17 out of 17 files.\n"
     ]
    }
   ],
   "source": [
    "# run the downloads package for 2022\n",
    "download = Downloader(date_range=(\"2022-01-01\", \"2022-04-23\"),\n",
    "                      main_path='./data/',\n",
    "                      verbose=10)\n",
    "data_path = download.run()"
   ]
  },
  {
   "cell_type": "code",
   "execution_count": 12,
   "id": "8a3fb524",
   "metadata": {},
   "outputs": [
    {
     "name": "stderr",
     "output_type": "stream",
     "text": [
      "2022-04-28 20:37:06,411 [MainThread  ] [INFO ]  Download data between 210102 and 211225.\n",
      "2022-04-28 20:37:06,783 [MainThread  ] [INFO ]  625 data file urls found on mta site.\n",
      "2022-04-28 20:37:06,783 [MainThread  ] [INFO ]  52 available data files within time window.\n",
      "2022-04-28 20:37:06,783 [MainThread  ] [INFO ]  Start downloading process.\n",
      "2022-04-28 20:39:07,024 [MainThread  ] [INFO ]  Downloaded 10 files...\n",
      "2022-04-28 20:40:03,498 [MainThread  ] [INFO ]  Downloaded 20 files...\n",
      "2022-04-28 20:40:28,293 [MainThread  ] [INFO ]  Downloaded 30 files...\n",
      "2022-04-28 20:41:09,080 [MainThread  ] [INFO ]  Downloaded 40 files...\n",
      "2022-04-28 20:41:49,884 [MainThread  ] [INFO ]  Downloaded 50 files...\n",
      "2022-04-28 20:41:54,757 [MainThread  ] [INFO ]  Complete: downloaded 52 out of 52 files.\n"
     ]
    }
   ],
   "source": [
    "# run the downloads package for 2021\n",
    "download = Downloader(date_range=(\"2021-01-02\", \"2021-12-25\"),\n",
    "                      main_path='./data/',\n",
    "                      verbose=10)\n",
    "data_path = download.run()"
   ]
  },
  {
   "cell_type": "code",
   "execution_count": 6,
   "id": "bbe2e145",
   "metadata": {},
   "outputs": [
    {
     "name": "stderr",
     "output_type": "stream",
     "text": [
      "2022-06-02 13:49:38,521 [MainThread  ] [INFO ]  Download data between 150103 and 180203.\n",
      "2022-06-02 13:49:38,795 [MainThread  ] [INFO ]  630 data file urls found on mta site.\n",
      "2022-06-02 13:49:38,795 [MainThread  ] [INFO ]  162 available data files within time window.\n",
      "2022-06-02 13:49:38,795 [MainThread  ] [INFO ]  Start downloading process.\n",
      "2022-06-02 13:50:02,658 [MainThread  ] [INFO ]  Downloaded 10 files...\n",
      "2022-06-02 13:50:25,752 [MainThread  ] [INFO ]  Downloaded 20 files...\n",
      "2022-06-02 13:50:49,390 [MainThread  ] [INFO ]  Downloaded 30 files...\n",
      "2022-06-02 13:51:12,717 [MainThread  ] [INFO ]  Downloaded 40 files...\n",
      "2022-06-02 13:51:36,827 [MainThread  ] [INFO ]  Downloaded 50 files...\n",
      "2022-06-02 13:52:59,430 [MainThread  ] [INFO ]  Downloaded 60 files...\n",
      "2022-06-02 13:55:50,914 [MainThread  ] [INFO ]  Downloaded 70 files...\n",
      "2022-06-02 13:58:42,377 [MainThread  ] [INFO ]  Downloaded 80 files...\n",
      "2022-06-02 14:01:18,971 [MainThread  ] [INFO ]  Downloaded 90 files...\n",
      "2022-06-02 14:03:54,176 [MainThread  ] [INFO ]  Downloaded 100 files...\n",
      "2022-06-02 14:06:14,116 [MainThread  ] [INFO ]  Downloaded 110 files...\n",
      "2022-06-02 14:07:22,669 [MainThread  ] [INFO ]  Downloaded 120 files...\n",
      "2022-06-02 14:09:55,282 [MainThread  ] [INFO ]  Downloaded 130 files...\n",
      "2022-06-02 14:12:34,456 [MainThread  ] [INFO ]  Downloaded 140 files...\n",
      "2022-06-02 14:14:28,646 [MainThread  ] [INFO ]  Downloaded 150 files...\n",
      "2022-06-02 14:16:36,437 [MainThread  ] [INFO ]  Downloaded 160 files...\n",
      "2022-06-02 14:16:41,208 [MainThread  ] [INFO ]  Complete: downloaded 162 out of 162 files.\n"
     ]
    }
   ],
   "source": [
    "# run the downloads package for 2015-2022\n",
    "download = Downloader(date_range=(\"2015-01-03\", \"2018-02-03\"),\n",
    "                      main_path='./data/',\n",
    "                      verbose=10)\n",
    "data_path = download.run()"
   ]
  }
 ],
 "metadata": {
  "kernelspec": {
   "display_name": "Python 3 (ipykernel)",
   "language": "python",
   "name": "python3"
  },
  "language_info": {
   "codemirror_mode": {
    "name": "ipython",
    "version": 3
   },
   "file_extension": ".py",
   "mimetype": "text/x-python",
   "name": "python",
   "nbconvert_exporter": "python",
   "pygments_lexer": "ipython3",
   "version": "3.8.13"
  }
 },
 "nbformat": 4,
 "nbformat_minor": 5
}
