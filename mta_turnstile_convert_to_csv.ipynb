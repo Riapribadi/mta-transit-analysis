{
 "cells": [
  {
   "cell_type": "markdown",
   "id": "7e2e8111",
   "metadata": {},
   "source": [
    "##### Pull all .txt files from directory to a single dataframe"
   ]
  },
  {
   "cell_type": "code",
   "execution_count": null,
   "id": "d6203ab5",
   "metadata": {},
   "outputs": [],
   "source": [
    "# Reference: https://www.easytweaks.com/pandas-read-text-files/\n",
    "# I put this code in a different notebook so that we don't have to run the txt downloads repetitively when running from terminal"
   ]
  },
  {
   "cell_type": "markdown",
   "id": "663cd77f",
   "metadata": {},
   "source": [
    "##### 2022 MTA turnstile volume data"
   ]
  },
  {
   "cell_type": "code",
   "execution_count": 6,
   "id": "2cec7e45",
   "metadata": {},
   "outputs": [],
   "source": [
    "import pandas as pd\n",
    "import glob\n",
    "import os"
   ]
  },
  {
   "cell_type": "code",
   "execution_count": 8,
   "id": "789d942d",
   "metadata": {},
   "outputs": [],
   "source": [
    "# Define relative path to folder containing the text files\n",
    "\n",
    "files_folder = (r\"C:\\Users\\Ria\\Documents\\DS4A_Data_Engineering\\project_team19\\mta_turnstile_volume\\data\\download-20220428202356\")\n",
    "files = []\n",
    "\n",
    "# Create a dataframe list by using a list comprehension\n",
    "\n",
    "files = [pd.read_csv(file, delimiter=',') for file in glob.glob(os.path.join(files_folder ,\"*.txt\"))]\n",
    "\n",
    "# Concatenate the list of DataFrames into one\n",
    "files_df = pd.concat(files)"
   ]
  },
  {
   "cell_type": "code",
   "execution_count": 9,
   "id": "8cb115a4",
   "metadata": {},
   "outputs": [
    {
     "data": {
      "text/html": [
       "<div>\n",
       "<style scoped>\n",
       "    .dataframe tbody tr th:only-of-type {\n",
       "        vertical-align: middle;\n",
       "    }\n",
       "\n",
       "    .dataframe tbody tr th {\n",
       "        vertical-align: top;\n",
       "    }\n",
       "\n",
       "    .dataframe thead th {\n",
       "        text-align: right;\n",
       "    }\n",
       "</style>\n",
       "<table border=\"1\" class=\"dataframe\">\n",
       "  <thead>\n",
       "    <tr style=\"text-align: right;\">\n",
       "      <th></th>\n",
       "      <th>C/A</th>\n",
       "      <th>UNIT</th>\n",
       "      <th>SCP</th>\n",
       "      <th>STATION</th>\n",
       "      <th>LINENAME</th>\n",
       "      <th>DIVISION</th>\n",
       "      <th>DATE</th>\n",
       "      <th>TIME</th>\n",
       "      <th>DESC</th>\n",
       "      <th>ENTRIES</th>\n",
       "      <th>EXITS</th>\n",
       "    </tr>\n",
       "  </thead>\n",
       "  <tbody>\n",
       "    <tr>\n",
       "      <th>0</th>\n",
       "      <td>A002</td>\n",
       "      <td>R051</td>\n",
       "      <td>02-00-00</td>\n",
       "      <td>59 ST</td>\n",
       "      <td>NQR456W</td>\n",
       "      <td>BMT</td>\n",
       "      <td>12/25/2021</td>\n",
       "      <td>03:00:00</td>\n",
       "      <td>REGULAR</td>\n",
       "      <td>7674633</td>\n",
       "      <td>2647624</td>\n",
       "    </tr>\n",
       "    <tr>\n",
       "      <th>1</th>\n",
       "      <td>A002</td>\n",
       "      <td>R051</td>\n",
       "      <td>02-00-00</td>\n",
       "      <td>59 ST</td>\n",
       "      <td>NQR456W</td>\n",
       "      <td>BMT</td>\n",
       "      <td>12/25/2021</td>\n",
       "      <td>07:00:00</td>\n",
       "      <td>REGULAR</td>\n",
       "      <td>7674636</td>\n",
       "      <td>2647627</td>\n",
       "    </tr>\n",
       "    <tr>\n",
       "      <th>2</th>\n",
       "      <td>A002</td>\n",
       "      <td>R051</td>\n",
       "      <td>02-00-00</td>\n",
       "      <td>59 ST</td>\n",
       "      <td>NQR456W</td>\n",
       "      <td>BMT</td>\n",
       "      <td>12/25/2021</td>\n",
       "      <td>11:00:00</td>\n",
       "      <td>REGULAR</td>\n",
       "      <td>7674641</td>\n",
       "      <td>2647646</td>\n",
       "    </tr>\n",
       "    <tr>\n",
       "      <th>3</th>\n",
       "      <td>A002</td>\n",
       "      <td>R051</td>\n",
       "      <td>02-00-00</td>\n",
       "      <td>59 ST</td>\n",
       "      <td>NQR456W</td>\n",
       "      <td>BMT</td>\n",
       "      <td>12/25/2021</td>\n",
       "      <td>15:00:00</td>\n",
       "      <td>REGULAR</td>\n",
       "      <td>7674654</td>\n",
       "      <td>2647662</td>\n",
       "    </tr>\n",
       "    <tr>\n",
       "      <th>4</th>\n",
       "      <td>A002</td>\n",
       "      <td>R051</td>\n",
       "      <td>02-00-00</td>\n",
       "      <td>59 ST</td>\n",
       "      <td>NQR456W</td>\n",
       "      <td>BMT</td>\n",
       "      <td>12/25/2021</td>\n",
       "      <td>19:00:00</td>\n",
       "      <td>REGULAR</td>\n",
       "      <td>7674684</td>\n",
       "      <td>2647689</td>\n",
       "    </tr>\n",
       "  </tbody>\n",
       "</table>\n",
       "</div>"
      ],
      "text/plain": [
       "    C/A  UNIT       SCP STATION LINENAME DIVISION        DATE      TIME  \\\n",
       "0  A002  R051  02-00-00   59 ST  NQR456W      BMT  12/25/2021  03:00:00   \n",
       "1  A002  R051  02-00-00   59 ST  NQR456W      BMT  12/25/2021  07:00:00   \n",
       "2  A002  R051  02-00-00   59 ST  NQR456W      BMT  12/25/2021  11:00:00   \n",
       "3  A002  R051  02-00-00   59 ST  NQR456W      BMT  12/25/2021  15:00:00   \n",
       "4  A002  R051  02-00-00   59 ST  NQR456W      BMT  12/25/2021  19:00:00   \n",
       "\n",
       "      DESC  ENTRIES  \\\n",
       "0  REGULAR  7674633   \n",
       "1  REGULAR  7674636   \n",
       "2  REGULAR  7674641   \n",
       "3  REGULAR  7674654   \n",
       "4  REGULAR  7674684   \n",
       "\n",
       "   EXITS                                                                 \n",
       "0                                            2647624                     \n",
       "1                                            2647627                     \n",
       "2                                            2647646                     \n",
       "3                                            2647662                     \n",
       "4                                            2647689                     "
      ]
     },
     "execution_count": 9,
     "metadata": {},
     "output_type": "execute_result"
    }
   ],
   "source": [
    "files_df.head()"
   ]
  },
  {
   "cell_type": "code",
   "execution_count": 10,
   "id": "14963b03",
   "metadata": {},
   "outputs": [
    {
     "data": {
      "text/plain": [
       "(3573963, 11)"
      ]
     },
     "execution_count": 10,
     "metadata": {},
     "output_type": "execute_result"
    }
   ],
   "source": [
    "# Checking if all data in the folder are being read correctly\n",
    "files_df.shape"
   ]
  },
  {
   "cell_type": "code",
   "execution_count": 11,
   "id": "de2ebf96",
   "metadata": {},
   "outputs": [
    {
     "data": {
      "text/plain": [
       "C/A                                                                     0\n",
       "UNIT                                                                    0\n",
       "SCP                                                                     0\n",
       "STATION                                                                 0\n",
       "LINENAME                                                                0\n",
       "DIVISION                                                                0\n",
       "DATE                                                                    0\n",
       "TIME                                                                    0\n",
       "DESC                                                                    0\n",
       "ENTRIES                                                                 0\n",
       "EXITS                                                                   0\n",
       "dtype: int64"
      ]
     },
     "execution_count": 11,
     "metadata": {},
     "output_type": "execute_result"
    }
   ],
   "source": [
    "files_df.isnull().sum()"
   ]
  },
  {
   "cell_type": "code",
   "execution_count": 14,
   "id": "f421ebad",
   "metadata": {},
   "outputs": [
    {
     "data": {
      "text/html": [
       "<div>\n",
       "<style scoped>\n",
       "    .dataframe tbody tr th:only-of-type {\n",
       "        vertical-align: middle;\n",
       "    }\n",
       "\n",
       "    .dataframe tbody tr th {\n",
       "        vertical-align: top;\n",
       "    }\n",
       "\n",
       "    .dataframe thead th {\n",
       "        text-align: right;\n",
       "    }\n",
       "</style>\n",
       "<table border=\"1\" class=\"dataframe\">\n",
       "  <thead>\n",
       "    <tr style=\"text-align: right;\">\n",
       "      <th></th>\n",
       "      <th>C/A</th>\n",
       "      <th>UNIT</th>\n",
       "      <th>SCP</th>\n",
       "      <th>STATION</th>\n",
       "      <th>LINENAME</th>\n",
       "      <th>DIVISION</th>\n",
       "      <th>DATE</th>\n",
       "      <th>TIME</th>\n",
       "      <th>DESC</th>\n",
       "      <th>ENTRIES</th>\n",
       "      <th>EXITS</th>\n",
       "    </tr>\n",
       "  </thead>\n",
       "  <tbody>\n",
       "  </tbody>\n",
       "</table>\n",
       "</div>"
      ],
      "text/plain": [
       "Empty DataFrame\n",
       "Columns: [C/A, UNIT, SCP, STATION, LINENAME, DIVISION, DATE, TIME, DESC, ENTRIES, EXITS                                                               ]\n",
       "Index: []"
      ]
     },
     "execution_count": 14,
     "metadata": {},
     "output_type": "execute_result"
    }
   ],
   "source": [
    "# Check if the header repeats again throughout the file\n",
    "files_df.loc[files_df['UNIT'] == 'UNIT']"
   ]
  },
  {
   "cell_type": "code",
   "execution_count": 20,
   "id": "47a3c779",
   "metadata": {},
   "outputs": [
    {
     "data": {
      "text/plain": [
       "(3573963, 11)"
      ]
     },
     "execution_count": 20,
     "metadata": {},
     "output_type": "execute_result"
    }
   ],
   "source": [
    "# Copy the dataframe content to another variable before saving to csv\n",
    "mta_turnstile_2022 = files_df.copy()\n",
    "mta_turnstile_2022.shape"
   ]
  },
  {
   "cell_type": "code",
   "execution_count": 21,
   "id": "f5996da9",
   "metadata": {},
   "outputs": [],
   "source": [
    "# creating a new csv file with the dataframe we created for 2022 data\n",
    "# To note: each week always restart with A002 (in this main csv everything is concatenated together with only 1 header line)\n",
    "# Files are being read from beginning of year to end of year based on specified date range in folder\n",
    "mta_turnstile_2022.to_csv('mta_turnstile_2022.csv', index=False)"
   ]
  },
  {
   "cell_type": "markdown",
   "id": "03b1f421",
   "metadata": {},
   "source": [
    "##### 2021 MTA turnstile volume data"
   ]
  },
  {
   "cell_type": "code",
   "execution_count": 17,
   "id": "7f8353dd",
   "metadata": {},
   "outputs": [],
   "source": [
    "# Define relative path to folder containing the text files\n",
    "\n",
    "files_folder_21 = (r\"C:\\Users\\Ria\\Documents\\DS4A_Data_Engineering\\project_team19\\mta_turnstile_volume\\data\\download-20220428203706\")\n",
    "files_21 = []\n",
    "\n",
    "# Create a dataframe list by using a list comprehension\n",
    "\n",
    "files_21 = [pd.read_csv(file, delimiter=',') for file in glob.glob(os.path.join(files_folder_21 ,\"*.txt\"))]\n",
    "\n",
    "# Concatenate the list of DataFrames into one\n",
    "files_df_21 = pd.concat(files_21)"
   ]
  },
  {
   "cell_type": "code",
   "execution_count": 18,
   "id": "690c8385",
   "metadata": {},
   "outputs": [
    {
     "data": {
      "text/plain": [
       "(10897397, 11)"
      ]
     },
     "execution_count": 18,
     "metadata": {},
     "output_type": "execute_result"
    }
   ],
   "source": [
    "files_df_21.shape"
   ]
  },
  {
   "cell_type": "code",
   "execution_count": 19,
   "id": "f9405552",
   "metadata": {},
   "outputs": [
    {
     "data": {
      "text/plain": [
       "C/A                                                                     0\n",
       "UNIT                                                                    0\n",
       "SCP                                                                     0\n",
       "STATION                                                                 0\n",
       "LINENAME                                                                0\n",
       "DIVISION                                                                0\n",
       "DATE                                                                    0\n",
       "TIME                                                                    0\n",
       "DESC                                                                    0\n",
       "ENTRIES                                                                 0\n",
       "EXITS                                                                   0\n",
       "dtype: int64"
      ]
     },
     "execution_count": 19,
     "metadata": {},
     "output_type": "execute_result"
    }
   ],
   "source": [
    "files_df_21.isnull().sum()"
   ]
  },
  {
   "cell_type": "code",
   "execution_count": 22,
   "id": "319b4c57",
   "metadata": {},
   "outputs": [
    {
     "data": {
      "text/plain": [
       "(10897397, 11)"
      ]
     },
     "execution_count": 22,
     "metadata": {},
     "output_type": "execute_result"
    }
   ],
   "source": [
    "# Copy the dataframe content to another variable before saving to csv\n",
    "# Just in case we messed up something \n",
    "mta_turnstile_2021 = files_df_21.copy()\n",
    "mta_turnstile_2021.shape"
   ]
  },
  {
   "cell_type": "code",
   "execution_count": 23,
   "id": "ff450e32",
   "metadata": {},
   "outputs": [],
   "source": [
    "# creating a new csv file with the dataframe we created for 2021 data\n",
    "mta_turnstile_2021.to_csv('mta_turnstile_2021.csv', index=False)"
   ]
  },
  {
   "cell_type": "code",
   "execution_count": null,
   "id": "3ac23ea5",
   "metadata": {},
   "outputs": [],
   "source": [
    "# We can continue for more years using these lines of code, after downloading the .txt to a folder in the previous step"
   ]
  }
 ],
 "metadata": {
  "kernelspec": {
   "display_name": "Python 3 (ipykernel)",
   "language": "python",
   "name": "python3"
  },
  "language_info": {
   "codemirror_mode": {
    "name": "ipython",
    "version": 3
   },
   "file_extension": ".py",
   "mimetype": "text/x-python",
   "name": "python",
   "nbconvert_exporter": "python",
   "pygments_lexer": "ipython3",
   "version": "3.8.13"
  }
 },
 "nbformat": 4,
 "nbformat_minor": 5
}
